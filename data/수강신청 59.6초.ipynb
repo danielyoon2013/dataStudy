{
 "cells": [
  {
   "cell_type": "code",
   "execution_count": 23,
   "metadata": {},
   "outputs": [],
   "source": [
    "import pyautogui\n",
    "pyautogui.size()\n",
    "import requests\n",
    "import time\n",
    "import datetime as dt\n"
   ]
  },
  {
   "cell_type": "code",
   "execution_count": 24,
   "metadata": {},
   "outputs": [],
   "source": [
    "pyautogui.click(1286,557)"
   ]
  },
  {
   "cell_type": "code",
   "execution_count": 25,
   "metadata": {},
   "outputs": [
    {
     "data": {
      "text/plain": [
       "(1198, 563)"
      ]
     },
     "execution_count": 25,
     "metadata": {},
     "output_type": "execute_result"
    }
   ],
   "source": [
    "pyautogui.position()"
   ]
  },
  {
   "cell_type": "code",
   "execution_count": 26,
   "metadata": {},
   "outputs": [],
   "source": [
    "pyautogui.click(1301,722)"
   ]
  },
  {
   "cell_type": "code",
   "execution_count": 59,
   "metadata": {},
   "outputs": [
    {
     "name": "stdout",
     "output_type": "stream",
     "text": [
      "2018-02-12 01:30:23.120174\n",
      "2018-02-12 01:30:23.220440\n",
      "2018-02-12 01:30:23.320821\n",
      "2018-02-12 01:30:23.421041\n",
      "2018-02-12 01:30:23.521241\n",
      "2018-02-12 01:30:23.622519\n",
      "2018-02-12 01:30:23.722779\n",
      "2018-02-12 01:30:23.823054\n",
      "2018-02-12 01:30:23.923307\n",
      "2018-02-12 01:30:24.023767\n",
      "2018-02-12 01:30:24.125848\n",
      "2018-02-12 01:30:24.226288\n",
      "2018-02-12 01:30:24.326573\n",
      "2018-02-12 01:30:24.426648\n",
      "2018-02-12 01:30:24.526965\n",
      "2018-02-12 01:30:24.627345\n",
      "2018-02-12 01:30:24.727449\n",
      "2018-02-12 01:30:24.828718\n",
      "2018-02-12 01:30:24.930997\n",
      "2018-02-12 01:30:25.033260\n",
      "2018-02-12 01:30:25.136537\n",
      "2018-02-12 01:30:25.236798\n",
      "2018-02-12 01:30:25.340077\n",
      "2018-02-12 01:30:25.440339\n",
      "2018-02-12 01:30:25.541609\n",
      "2018-02-12 01:30:25.642125\n",
      "2018-02-12 01:30:25.744156\n",
      "2018-02-12 01:30:25.844600\n",
      "2018-02-12 01:30:25.945691\n",
      "2018-02-12 01:30:26.045953\n",
      "2018-02-12 01:30:26.146406\n",
      "2018-02-12 01:30:26.246482\n",
      "2018-02-12 01:30:26.346749\n",
      "2018-02-12 01:30:26.447023\n",
      "2018-02-12 01:30:26.547309\n",
      "2018-02-12 01:30:26.649566\n",
      "2018-02-12 01:30:26.749818\n",
      "2018-02-12 01:30:26.850087\n",
      "2018-02-12 01:30:26.951360\n",
      "2018-02-12 01:30:27.060650\n",
      "2018-02-12 01:30:27.160992\n",
      "2018-02-12 01:30:27.262198\n",
      "2018-02-12 01:30:27.362448\n",
      "2018-02-12 01:30:27.463726\n",
      "2018-02-12 01:30:27.564137\n",
      "2018-02-12 01:30:27.664252\n",
      "2018-02-12 01:30:27.764516\n",
      "2018-02-12 01:30:27.864952\n",
      "2018-02-12 01:30:27.965050\n",
      "2018-02-12 01:30:28.065496\n",
      "2018-02-12 01:30:28.165618\n",
      "2018-02-12 01:30:28.266103\n",
      "2018-02-12 01:30:28.367123\n",
      "2018-02-12 01:30:28.467385\n",
      "2018-02-12 01:30:28.567915\n",
      "2018-02-12 01:30:28.667918\n",
      "2018-02-12 01:30:28.768324\n",
      "2018-02-12 01:30:28.868449\n",
      "2018-02-12 01:30:28.968886\n",
      "2018-02-12 01:30:29.068985\n",
      "2018-02-12 01:30:29.169247\n",
      "2018-02-12 01:30:29.269628\n",
      "2018-02-12 01:30:29.370785\n",
      "2018-02-12 01:30:29.472181\n",
      "2018-02-12 01:30:29.576426\n",
      "2018-02-12 01:30:29.676691\n",
      "2018-02-12 01:30:29.777034\n",
      "2018-02-12 01:30:29.877222\n",
      "2018-02-12 01:30:29.978500\n",
      "2018-02-12 01:30:30.084774\n",
      "2018-02-12 01:30:30.185038\n",
      "2018-02-12 01:30:30.285305\n",
      "2018-02-12 01:30:30.385577\n",
      "2018-02-12 01:30:30.485836\n",
      "2018-02-12 01:30:30.587109\n",
      "2018-02-12 01:30:30.687372\n",
      "2018-02-12 01:30:30.787754\n",
      "2018-02-12 01:30:30.887905\n",
      "2018-02-12 01:30:30.988291\n",
      "2018-02-12 01:30:31.090447\n",
      "2018-02-12 01:30:31.190717\n",
      "2018-02-12 01:30:31.291010\n",
      "2018-02-12 01:30:31.391246\n",
      "2018-02-12 01:30:31.492560\n",
      "2018-02-12 01:30:31.592792\n",
      "2018-02-12 01:30:31.694050\n",
      "2018-02-12 01:30:31.794313\n",
      "2018-02-12 01:30:31.894642\n",
      "2018-02-12 01:30:31.996862\n",
      "2018-02-12 01:30:32.098123\n",
      "2018-02-12 01:30:32.198389\n",
      "2018-02-12 01:30:32.298653\n",
      "2018-02-12 01:30:32.399934\n",
      "2018-02-12 01:30:32.500366\n",
      "2018-02-12 01:30:32.602472\n",
      "2018-02-12 01:30:32.702728\n",
      "2018-02-12 01:30:32.803147\n",
      "2018-02-12 01:30:32.903260\n",
      "2018-02-12 01:30:33.003622\n",
      "2018-02-12 01:30:33.104803\n",
      "2018-02-12 01:30:33.205244\n",
      "2018-02-12 01:30:33.307343\n",
      "2018-02-12 01:30:33.407624\n",
      "2018-02-12 01:30:33.508880\n",
      "2018-02-12 01:30:33.610140\n",
      "2018-02-12 01:30:33.712422\n",
      "2018-02-12 01:30:33.812676\n",
      "2018-02-12 01:30:33.914000\n",
      "2018-02-12 01:30:34.014214\n",
      "2018-02-12 01:30:34.114588\n",
      "2018-02-12 01:30:34.214745\n",
      "2018-02-12 01:30:34.315171\n",
      "2018-02-12 01:30:34.431322\n",
      "2018-02-12 01:30:34.531591\n",
      "2018-02-12 01:30:34.631867\n",
      "2018-02-12 01:30:34.732301\n",
      "2018-02-12 01:30:34.832581\n",
      "2018-02-12 01:30:34.932843\n",
      "2018-02-12 01:30:35.033096\n",
      "2018-02-12 01:30:35.133356\n",
      "2018-02-12 01:30:35.233466\n",
      "2018-02-12 01:30:35.333722\n",
      "2018-02-12 01:30:35.433988\n",
      "2018-02-12 01:30:35.534347\n",
      "2018-02-12 01:30:35.634700\n",
      "2018-02-12 01:30:35.734796\n",
      "2018-02-12 01:30:35.837069\n",
      "2018-02-12 01:30:35.937359\n",
      "2018-02-12 01:30:36.039609\n",
      "2018-02-12 01:30:36.139963\n",
      "2018-02-12 01:30:36.240130\n",
      "2018-02-12 01:30:36.340558\n",
      "2018-02-12 01:30:36.440682\n",
      "2018-02-12 01:30:36.541107\n",
      "2018-02-12 01:30:36.642197\n",
      "2018-02-12 01:30:36.742497\n",
      "2018-02-12 01:30:36.842923\n",
      "2018-02-12 01:30:36.943114\n",
      "2018-02-12 01:30:37.043273\n",
      "2018-02-12 01:30:37.143536\n",
      "2018-02-12 01:30:37.243965\n",
      "2018-02-12 01:30:37.345082\n",
      "2018-02-12 01:30:37.445332\n",
      "2018-02-12 01:30:37.545596\n",
      "2018-02-12 01:30:37.645917\n",
      "2018-02-12 01:30:37.746313\n",
      "2018-02-12 01:30:37.846399\n",
      "2018-02-12 01:30:37.948677\n",
      "2018-02-12 01:30:38.048937\n",
      "2018-02-12 01:30:38.150257\n",
      "2018-02-12 01:30:38.250643\n",
      "2018-02-12 01:30:38.352751\n",
      "2018-02-12 01:30:38.453008\n",
      "2018-02-12 01:30:38.553290\n",
      "2018-02-12 01:30:38.653545\n",
      "2018-02-12 01:30:38.753991\n",
      "2018-02-12 01:30:38.856089\n",
      "2018-02-12 01:30:38.956535\n",
      "2018-02-12 01:30:39.057617\n",
      "2018-02-12 01:30:39.158061\n",
      "2018-02-12 01:30:39.258202\n",
      "2018-02-12 01:30:39.358417\n",
      "2018-02-12 01:30:39.458837\n",
      "2018-02-12 01:30:39.559137\n",
      "2018-02-12 01:30:39.660216\n",
      "2018-02-12 01:30:39.760488\n",
      "2018-02-12 01:30:39.860942\n",
      "2018-02-12 01:30:39.961195\n",
      "2018-02-12 01:30:40.061288\n",
      "2018-02-12 01:30:40.161704\n",
      "2018-02-12 01:30:40.262007\n",
      "2018-02-12 01:30:40.362278\n",
      "2018-02-12 01:30:40.463411\n",
      "2018-02-12 01:30:40.563785\n",
      "2018-02-12 01:30:40.664054\n",
      "2018-02-12 01:30:40.764153\n",
      "2018-02-12 01:30:40.865437\n",
      "2018-02-12 01:30:40.965884\n",
      "2018-02-12 01:30:41.066207\n",
      "2018-02-12 01:30:41.166227\n",
      "2018-02-12 01:30:41.266671\n",
      "2018-02-12 01:30:41.366751\n",
      "2018-02-12 01:30:41.467019\n",
      "2018-02-12 01:30:41.567283\n",
      "2018-02-12 01:30:41.667741\n",
      "2018-02-12 01:30:41.767823\n",
      "2018-02-12 01:30:41.869141\n",
      "2018-02-12 01:30:41.969599\n",
      "2018-02-12 01:30:42.069701\n",
      "2018-02-12 01:30:42.169889\n",
      "2018-02-12 01:30:42.272159\n",
      "2018-02-12 01:30:42.372428\n",
      "2018-02-12 01:30:42.472693\n",
      "2018-02-12 01:30:42.573137\n",
      "2018-02-12 01:30:42.673409\n",
      "2018-02-12 01:30:42.773677\n",
      "2018-02-12 01:30:42.873941\n",
      "2018-02-12 01:30:42.974207\n",
      "2018-02-12 01:30:43.074473\n",
      "2018-02-12 01:30:43.174739\n",
      "2018-02-12 01:30:43.275878\n",
      "2018-02-12 01:30:43.376256\n",
      "2018-02-12 01:30:43.476368\n",
      "2018-02-12 01:30:43.576806\n",
      "2018-02-12 01:30:43.676892\n",
      "2018-02-12 01:30:43.777160\n",
      "2018-02-12 01:30:43.877605\n",
      "2018-02-12 01:30:43.977877\n",
      "2018-02-12 01:30:44.078130\n",
      "2018-02-12 01:30:44.178223\n",
      "2018-02-12 01:30:44.278604\n",
      "2018-02-12 01:30:44.379760\n",
      "2018-02-12 01:30:44.480155\n",
      "2018-02-12 01:30:44.581303\n",
      "2018-02-12 01:30:44.681560\n",
      "2018-02-12 01:30:44.781829\n",
      "2018-02-12 01:30:44.883099\n",
      "2018-02-12 01:30:44.983365\n",
      "2018-02-12 01:30:45.083658\n",
      "2018-02-12 01:30:45.184026\n",
      "2018-02-12 01:30:45.284161\n",
      "2018-02-12 01:30:45.385432\n",
      "2018-02-12 01:30:45.485885\n",
      "2018-02-12 01:30:45.586980\n",
      "2018-02-12 01:30:45.687236\n",
      "2018-02-12 01:30:45.787503\n",
      "2018-02-12 01:30:45.887940\n",
      "2018-02-12 01:30:45.989034\n",
      "2018-02-12 01:30:46.089352\n",
      "2018-02-12 01:30:46.189670\n",
      "2018-02-12 01:30:46.290840\n",
      "2018-02-12 01:30:46.391288\n",
      "2018-02-12 01:30:46.491558\n",
      "2018-02-12 01:30:46.591634\n",
      "2018-02-12 01:30:46.691986\n",
      "2018-02-12 01:30:46.792178\n",
      "2018-02-12 01:30:46.892476\n",
      "2018-02-12 01:30:46.993705\n",
      "2018-02-12 01:30:47.093973\n",
      "2018-02-12 01:30:47.194282\n",
      "2018-02-12 01:30:47.295511\n",
      "2018-02-12 01:30:47.395817\n",
      "2018-02-12 01:30:47.496041\n",
      "2018-02-12 01:30:47.597314\n",
      "2018-02-12 01:30:47.697576\n",
      "2018-02-12 01:30:47.797841\n",
      "2018-02-12 01:30:47.898120\n",
      "2018-02-12 01:30:47.998553\n",
      "2018-02-12 01:30:48.098640\n",
      "2018-02-12 01:30:48.199963\n",
      "2018-02-12 01:30:48.300404\n",
      "2018-02-12 01:30:48.400446\n",
      "2018-02-12 01:30:48.500809\n",
      "2018-02-12 01:30:48.601159\n",
      "2018-02-12 01:30:48.702250\n",
      "2018-02-12 01:30:48.802683\n",
      "2018-02-12 01:30:48.903787\n",
      "2018-02-12 01:30:49.004049\n",
      "2018-02-12 01:30:49.104497\n",
      "2018-02-12 01:30:49.204766\n",
      "2018-02-12 01:30:49.305908\n",
      "2018-02-12 01:30:49.406115\n",
      "2018-02-12 01:30:49.506570\n",
      "2018-02-12 01:30:49.606681\n",
      "2018-02-12 01:30:49.706967\n",
      "2018-02-12 01:30:49.809195\n",
      "2018-02-12 01:30:49.909472\n",
      "2018-02-12 01:30:50.011733\n",
      "2018-02-12 01:30:50.112172\n",
      "2018-02-12 01:30:50.212446\n",
      "2018-02-12 01:30:50.312524\n",
      "2018-02-12 01:30:50.419812\n",
      "2018-02-12 01:30:50.520138\n",
      "2018-02-12 01:30:50.621354\n",
      "2018-02-12 01:30:50.721614\n",
      "2018-02-12 01:30:50.822882\n",
      "2018-02-12 01:30:50.923147\n",
      "2018-02-12 01:30:51.023532\n",
      "2018-02-12 01:30:51.123840\n",
      "2018-02-12 01:30:51.223946\n",
      "2018-02-12 01:30:51.324212\n",
      "2018-02-12 01:30:51.424666\n",
      "2018-02-12 01:30:51.524753\n",
      "2018-02-12 01:30:51.625189\n",
      "2018-02-12 01:30:51.725460\n",
      "2018-02-12 01:30:51.825735\n",
      "2018-02-12 01:30:51.925854\n",
      "2018-02-12 01:30:52.026078\n",
      "2018-02-12 01:30:52.126539\n",
      "2018-02-12 01:30:52.227673\n",
      "2018-02-12 01:30:52.327878\n",
      "2018-02-12 01:30:52.428318\n",
      "2018-02-12 01:30:52.528599\n",
      "2018-02-12 01:30:52.628876\n",
      "2018-02-12 01:30:52.730005\n",
      "2018-02-12 01:30:52.830215\n",
      "2018-02-12 01:30:52.930522\n",
      "2018-02-12 01:30:53.030923\n",
      "2018-02-12 01:30:53.131013\n",
      "2018-02-12 01:30:53.231469\n",
      "2018-02-12 01:30:53.331546\n",
      "2018-02-12 01:30:53.431817\n",
      "2018-02-12 01:30:53.532168\n",
      "2018-02-12 01:30:53.632526\n",
      "2018-02-12 01:30:53.732806\n"
     ]
    },
    {
     "name": "stdout",
     "output_type": "stream",
     "text": [
      "2018-02-12 01:30:53.833053\n",
      "2018-02-12 01:30:53.933146\n",
      "2018-02-12 01:30:54.033684\n",
      "2018-02-12 01:30:54.134693\n",
      "2018-02-12 01:30:54.235176\n",
      "2018-02-12 01:30:54.337220\n",
      "2018-02-12 01:30:54.437541\n",
      "2018-02-12 01:30:54.537762\n",
      "2018-02-12 01:30:54.638033\n",
      "2018-02-12 01:30:54.738312\n",
      "2018-02-12 01:30:54.840570\n",
      "2018-02-12 01:30:54.940947\n",
      "2018-02-12 01:30:55.041093\n",
      "2018-02-12 01:30:55.141463\n",
      "2018-02-12 01:30:55.242629\n",
      "2018-02-12 01:30:55.342895\n",
      "2018-02-12 01:30:55.443157\n",
      "2018-02-12 01:30:55.543602\n",
      "2018-02-12 01:30:55.643887\n",
      "2018-02-12 01:30:55.744104\n",
      "2018-02-12 01:30:55.844386\n",
      "2018-02-12 01:30:55.944699\n",
      "2018-02-12 01:30:56.044819\n",
      "2018-02-12 01:30:56.145214\n",
      "2018-02-12 01:30:56.245541\n",
      "2018-02-12 01:30:56.345750\n",
      "2018-02-12 01:30:56.446887\n",
      "2018-02-12 01:30:56.547089\n",
      "2018-02-12 01:30:56.647365\n",
      "2018-02-12 01:30:56.747794\n",
      "2018-02-12 01:30:56.847901\n",
      "2018-02-12 01:30:56.948323\n",
      "2018-02-12 01:30:57.048424\n",
      "2018-02-12 01:30:57.148796\n",
      "2018-02-12 01:30:57.249130\n",
      "2018-02-12 01:30:57.349223\n",
      "2018-02-12 01:30:57.450496\n",
      "2018-02-12 01:30:57.550776\n",
      "2018-02-12 01:30:57.651131\n",
      "2018-02-12 01:30:57.751480\n",
      "2018-02-12 01:30:57.851741\n",
      "2018-02-12 01:30:57.951824\n",
      "2018-02-12 01:30:58.052267\n",
      "2018-02-12 01:30:58.152371\n",
      "2018-02-12 01:30:58.252626\n",
      "2018-02-12 01:30:58.352890\n",
      "2018-02-12 01:30:58.457168\n",
      "2018-02-12 01:30:58.557436\n",
      "2018-02-12 01:30:58.658706\n",
      "2018-02-12 01:30:58.761984\n",
      "2018-02-12 01:30:58.862246\n",
      "2018-02-12 01:30:58.967525\n",
      "2018-02-12 01:30:59.067789\n",
      "2018-02-12 01:30:59.168172\n",
      "2018-02-12 01:30:59.268323\n",
      "2018-02-12 01:30:59.368588\n",
      "2018-02-12 01:30:59.468974\n",
      "2018-02-12 01:30:59.569125\n",
      "2018-02-12 01:30:59.669387\n"
     ]
    }
   ],
   "source": [
    "endhope=False\n",
    "while not endhope:\n",
    "    tim=dt.datetime.now()\n",
    "    if tim.second>=59 and tim.microsecond>600000:\n",
    "        pyautogui.click(1301,722)\n",
    "        endhope=True\n",
    "        print(tim)\n",
    "    else:\n",
    "        time.sleep(0.1)\n",
    "        print(tim)\n",
    "            \n",
    "            \n",
    "    \n",
    "        \n",
    "    \n",
    "\n",
    "\n",
    "\n"
   ]
  },
  {
   "cell_type": "markdown",
   "metadata": {},
   "source": []
  },
  {
   "cell_type": "code",
   "execution_count": 34,
   "metadata": {},
   "outputs": [
    {
     "name": "stdout",
     "output_type": "stream",
     "text": [
      "The slowest run took 10.52 times longer than the fastest. This could mean that an intermediate result is being cached.\n",
      "440 ms ± 502 ms per loop (mean ± std. dev. of 7 runs, 1 loop each)\n"
     ]
    }
   ],
   "source": [
    "%timeit requests.get('http://portal.yonsei.ac.kr/main/')"
   ]
  },
  {
   "cell_type": "code",
   "execution_count": 35,
   "metadata": {},
   "outputs": [
    {
     "name": "stdout",
     "output_type": "stream",
     "text": [
      "212 ms ± 48.9 ms per loop (mean ± std. dev. of 7 runs, 1 loop each)\n"
     ]
    }
   ],
   "source": [
    "%timeit requests.get('http://portal.yonsei.ac.kr/main/')"
   ]
  },
  {
   "cell_type": "code",
   "execution_count": 36,
   "metadata": {},
   "outputs": [
    {
     "name": "stdout",
     "output_type": "stream",
     "text": [
      "The slowest run took 7.44 times longer than the fastest. This could mean that an intermediate result is being cached.\n",
      "400 ms ± 418 ms per loop (mean ± std. dev. of 7 runs, 1 loop each)\n"
     ]
    }
   ],
   "source": [
    "%timeit requests.get('http://portal.yonsei.ac.kr/main/')"
   ]
  },
  {
   "cell_type": "code",
   "execution_count": 37,
   "metadata": {},
   "outputs": [
    {
     "name": "stdout",
     "output_type": "stream",
     "text": [
      "The slowest run took 5.73 times longer than the fastest. This could mean that an intermediate result is being cached.\n",
      "457 ms ± 336 ms per loop (mean ± std. dev. of 7 runs, 1 loop each)\n"
     ]
    }
   ],
   "source": [
    "%timeit requests.get('http://portal.yonsei.ac.kr/main/')"
   ]
  },
  {
   "cell_type": "code",
   "execution_count": 38,
   "metadata": {},
   "outputs": [
    {
     "name": "stdout",
     "output_type": "stream",
     "text": [
      "303 ms ± 122 ms per loop (mean ± std. dev. of 7 runs, 1 loop each)\n"
     ]
    }
   ],
   "source": [
    "%timeit requests.get('http://portal.yonsei.ac.kr/main/')"
   ]
  },
  {
   "cell_type": "code",
   "execution_count": 39,
   "metadata": {},
   "outputs": [
    {
     "name": "stdout",
     "output_type": "stream",
     "text": [
      "The slowest run took 6.31 times longer than the fastest. This could mean that an intermediate result is being cached.\n",
      "515 ms ± 330 ms per loop (mean ± std. dev. of 7 runs, 1 loop each)\n"
     ]
    }
   ],
   "source": [
    "%timeit requests.get('http://portal.yonsei.ac.kr/main/')"
   ]
  },
  {
   "cell_type": "code",
   "execution_count": 40,
   "metadata": {},
   "outputs": [
    {
     "name": "stdout",
     "output_type": "stream",
     "text": [
      "The slowest run took 9.56 times longer than the fastest. This could mean that an intermediate result is being cached.\n",
      "598 ms ± 708 ms per loop (mean ± std. dev. of 7 runs, 1 loop each)\n"
     ]
    }
   ],
   "source": [
    "%timeit requests.get('http://portal.yonsei.ac.kr/main/')"
   ]
  },
  {
   "cell_type": "code",
   "execution_count": 41,
   "metadata": {},
   "outputs": [
    {
     "name": "stdout",
     "output_type": "stream",
     "text": [
      "242 ms ± 25.2 ms per loop (mean ± std. dev. of 7 runs, 1 loop each)\n"
     ]
    }
   ],
   "source": [
    "%timeit requests.get('http://portal.yonsei.ac.kr/main/')"
   ]
  },
  {
   "cell_type": "code",
   "execution_count": 42,
   "metadata": {},
   "outputs": [
    {
     "name": "stdout",
     "output_type": "stream",
     "text": [
      "279 ms ± 80.5 ms per loop (mean ± std. dev. of 7 runs, 1 loop each)\n"
     ]
    }
   ],
   "source": [
    "%timeit requests.get('http://portal.yonsei.ac.kr/main/').headers['Date']"
   ]
  },
  {
   "cell_type": "code",
   "execution_count": 43,
   "metadata": {},
   "outputs": [
    {
     "name": "stdout",
     "output_type": "stream",
     "text": [
      "239 ms ± 30.4 ms per loop (mean ± std. dev. of 7 runs, 1 loop each)\n",
      "296 ms ± 113 ms per loop (mean ± std. dev. of 7 runs, 1 loop each)\n"
     ]
    }
   ],
   "source": [
    "%timeit requests.get('http://portal.yonsei.ac.kr/main/')\n",
    "%timeit requests.get('http://portal.yonsei.ac.kr/main/')"
   ]
  },
  {
   "cell_type": "code",
   "execution_count": 44,
   "metadata": {},
   "outputs": [
    {
     "name": "stdout",
     "output_type": "stream",
     "text": [
      "The slowest run took 5.66 times longer than the fastest. This could mean that an intermediate result is being cached.\n",
      "351 ms ± 297 ms per loop (mean ± std. dev. of 7 runs, 1 loop each)\n"
     ]
    }
   ],
   "source": [
    "%timeit requests.get('http://portal.yonsei.ac.kr/main/').headers['Date']"
   ]
  },
  {
   "cell_type": "code",
   "execution_count": 45,
   "metadata": {},
   "outputs": [
    {
     "name": "stdout",
     "output_type": "stream",
     "text": [
      "215 ms ± 42.1 ms per loop (mean ± std. dev. of 7 runs, 1 loop each)\n"
     ]
    }
   ],
   "source": [
    "%timeit requests.get('http://portal.yonsei.ac.kr/main/').headers['Date']"
   ]
  },
  {
   "cell_type": "code",
   "execution_count": 46,
   "metadata": {},
   "outputs": [
    {
     "name": "stdout",
     "output_type": "stream",
     "text": [
      "249 ms ± 72 ms per loop (mean ± std. dev. of 7 runs, 1 loop each)\n"
     ]
    }
   ],
   "source": [
    "%timeit requests.get('http://portal.yonsei.ac.kr/main/').headers['Date']\n"
   ]
  },
  {
   "cell_type": "code",
   "execution_count": 47,
   "metadata": {},
   "outputs": [
    {
     "name": "stdout",
     "output_type": "stream",
     "text": [
      "232 ms ± 39.8 ms per loop (mean ± std. dev. of 7 runs, 1 loop each)\n"
     ]
    }
   ],
   "source": [
    "%timeit requests.get('http://portal.yonsei.ac.kr/main/').headers['Date']"
   ]
  },
  {
   "cell_type": "code",
   "execution_count": 48,
   "metadata": {},
   "outputs": [
    {
     "name": "stdout",
     "output_type": "stream",
     "text": [
      "The slowest run took 5.93 times longer than the fastest. This could mean that an intermediate result is being cached.\n",
      "548 ms ± 443 ms per loop (mean ± std. dev. of 7 runs, 1 loop each)\n"
     ]
    }
   ],
   "source": [
    "%timeit requests.get('http://portal.yonsei.ac.kr/main/').headers['Date']"
   ]
  },
  {
   "cell_type": "code",
   "execution_count": 49,
   "metadata": {},
   "outputs": [
    {
     "name": "stdout",
     "output_type": "stream",
     "text": [
      "251 ms ± 90.6 ms per loop (mean ± std. dev. of 7 runs, 1 loop each)\n"
     ]
    }
   ],
   "source": [
    "%timeit requests.get('http://portal.yonsei.ac.kr/main/').headers['Date']"
   ]
  },
  {
   "cell_type": "code",
   "execution_count": 50,
   "metadata": {},
   "outputs": [
    {
     "name": "stdout",
     "output_type": "stream",
     "text": [
      "The slowest run took 5.93 times longer than the fastest. This could mean that an intermediate result is being cached.\n",
      "397 ms ± 333 ms per loop (mean ± std. dev. of 7 runs, 1 loop each)\n"
     ]
    }
   ],
   "source": [
    "%timeit requests.get('http://portal.yonsei.ac.kr/main/').headers['Date']"
   ]
  },
  {
   "cell_type": "code",
   "execution_count": 51,
   "metadata": {},
   "outputs": [
    {
     "name": "stdout",
     "output_type": "stream",
     "text": [
      "262 ms ± 52.1 ms per loop (mean ± std. dev. of 7 runs, 1 loop each)\n"
     ]
    }
   ],
   "source": [
    "%timeit requests.get('http://portal.yonsei.ac.kr/main/').headers['Date']"
   ]
  },
  {
   "cell_type": "code",
   "execution_count": 52,
   "metadata": {},
   "outputs": [
    {
     "name": "stdout",
     "output_type": "stream",
     "text": [
      "248 ms ± 11.3 ms per loop (mean ± std. dev. of 7 runs, 1 loop each)\n"
     ]
    }
   ],
   "source": [
    "%timeit requests.get('http://portal.yonsei.ac.kr/main/').headers['Date']"
   ]
  },
  {
   "cell_type": "code",
   "execution_count": 53,
   "metadata": {
    "scrolled": true
   },
   "outputs": [
    {
     "name": "stdout",
     "output_type": "stream",
     "text": [
      "259 ms ± 35.6 ms per loop (mean ± std. dev. of 7 runs, 1 loop each)\n"
     ]
    }
   ],
   "source": [
    "%timeit requests.get('http://portal.yonsei.ac.kr/main/').headers['Date']"
   ]
  },
  {
   "cell_type": "code",
   "execution_count": 54,
   "metadata": {},
   "outputs": [],
   "source": [
    "time.sleep(0.1)"
   ]
  },
  {
   "cell_type": "code",
   "execution_count": 55,
   "metadata": {},
   "outputs": [
    {
     "ename": "AttributeError",
     "evalue": "'datetime.datetime' object has no attribute 'mircosecond'",
     "output_type": "error",
     "traceback": [
      "\u001b[1;31m---------------------------------------------------------------------------\u001b[0m",
      "\u001b[1;31mAttributeError\u001b[0m                            Traceback (most recent call last)",
      "\u001b[1;32m<ipython-input-55-b0b45e0315fb>\u001b[0m in \u001b[0;36m<module>\u001b[1;34m()\u001b[0m\n\u001b[1;32m----> 1\u001b[1;33m \u001b[0mdt\u001b[0m\u001b[1;33m.\u001b[0m\u001b[0mdatetime\u001b[0m\u001b[1;33m.\u001b[0m\u001b[0mnow\u001b[0m\u001b[1;33m(\u001b[0m\u001b[1;33m)\u001b[0m\u001b[1;33m.\u001b[0m\u001b[0mmircosecond\u001b[0m\u001b[1;33m\u001b[0m\u001b[0m\n\u001b[0m",
      "\u001b[1;31mAttributeError\u001b[0m: 'datetime.datetime' object has no attribute 'mircosecond'"
     ]
    }
   ],
   "source": [
    "dt.datetime.now().mircosecond"
   ]
  },
  {
   "cell_type": "code",
   "execution_count": 57,
   "metadata": {},
   "outputs": [
    {
     "data": {
      "text/plain": [
       "68304"
      ]
     },
     "execution_count": 57,
     "metadata": {},
     "output_type": "execute_result"
    }
   ],
   "source": [
    "tim.microsecond"
   ]
  },
  {
   "cell_type": "code",
   "execution_count": null,
   "metadata": {},
   "outputs": [],
   "source": []
  }
 ],
 "metadata": {
  "kernelspec": {
   "display_name": "Python 3",
   "language": "python",
   "name": "python3"
  },
  "language_info": {
   "codemirror_mode": {
    "name": "ipython",
    "version": 3
   },
   "file_extension": ".py",
   "mimetype": "text/x-python",
   "name": "python",
   "nbconvert_exporter": "python",
   "pygments_lexer": "ipython3",
   "version": "3.6.2"
  }
 },
 "nbformat": 4,
 "nbformat_minor": 2
}
